{
 "cells": [
  {
   "cell_type": "code",
   "execution_count": 2,
   "id": "2150cf85-e8a9-4c98-98ae-8b851bf28765",
   "metadata": {},
   "outputs": [],
   "source": [
    "#Q.1 \n",
    "# Multithreading is a programming model that allows you to execute multiple threads within a single process\n",
    "# Threads share the same memory space and resources within the process, making them lighter than seperate processes.\n",
    "\n",
    "# Improved  performance: By executing multiple tasks concurrently,you can often make better use of CPU resource.\n",
    "# Enhanced responsiveness: Your application can remain responsive to user interaction even while performing intensive tasks in the background.\n",
    "# Simplified code structure: Multithreading can help you break down complex tasks into smaller,more manageable units,making your code easier to understand and maintain.\n",
    "\n",
    "# threading: This built-in module provides classes and functions for creating and managing threads."
   ]
  },
  {
   "cell_type": "code",
   "execution_count": 3,
   "id": "1c2715c1-c0bf-4251-aafa-334c59bc1396",
   "metadata": {},
   "outputs": [],
   "source": [
    "#Q.2\n",
    "# The python threading module is used for creating and managing threads allowing developers to \n",
    "# improve the performance and responsiveness of their applications.It's particularly useful for I/O bound tasks\n",
    "\n",
    "# ActiveCount:This function returns the number of threads objects that are currently active.\n",
    "# CurrentThread: This function returns the current thread objects,corresponding to the caller's thread of control.\n",
    "# Enumerate: This functions returns a list of all thread objects that are currently active."
   ]
  },
  {
   "cell_type": "code",
   "execution_count": 4,
   "id": "34f9302e-1823-43e5-bc5f-222d39ab6d22",
   "metadata": {},
   "outputs": [],
   "source": [
    "#Q.3\n",
    "#Run():Contains the code that the thread will execute.It's the entry point for the thread's activity.\n",
    "#Start():Starts the thread's execution by calling its run() method\n",
    "#join():This method makes the calling thread wait until the thread it's called on terminates.\n",
    "#isAlive():This method checks if the thread is still running. It returns True if the thread is alive \n"
   ]
  },
  {
   "cell_type": "code",
   "execution_count": 44,
   "id": "01e1fffd-2f01-4f86-ac51-a081734dc37a",
   "metadata": {},
   "outputs": [],
   "source": [
    "# Q.4\n",
    "import threading\n",
    "import time\n",
    " \n",
    "def print_squares(numbers):\n",
    "    for num in numbers:\n",
    "        print(\"square is\", {num * num})\n",
    "        \n",
    "\n",
    "def print_cubes(numbers):\n",
    "    for num in numbers:\n",
    "        print(\"cube is\", {num * num * num})\n",
    "        "
   ]
  },
  {
   "cell_type": "code",
   "execution_count": 45,
   "id": "de2e2a04-b0a8-4448-9355-430d24372c2a",
   "metadata": {},
   "outputs": [],
   "source": [
    "numbers =[1,2,3,4,5,6]"
   ]
  },
  {
   "cell_type": "code",
   "execution_count": 46,
   "id": "1aa428e5-e78d-4c97-9fcf-f70259c50fb3",
   "metadata": {},
   "outputs": [],
   "source": [
    "thread1= threading.Thread(target=print_squares, args=(numbers,))\n",
    "thread2= threading.Thread(target=print_cubes, args=(numbers,))"
   ]
  },
  {
   "cell_type": "code",
   "execution_count": 47,
   "id": "1b5f9b3b-b402-41aa-9307-926cfa5f2306",
   "metadata": {},
   "outputs": [
    {
     "name": "stdout",
     "output_type": "stream",
     "text": [
      "square is {1}\n",
      "square is {4}\n",
      "square is {9}\n",
      "square is {16}\n",
      "square is {25}\n",
      "square is {36}\n",
      "cube is {1}\n",
      "cube is {8}\n",
      "cube is {27}\n",
      "cube is {64}\n",
      "cube is {125}\n",
      "cube is {216}\n"
     ]
    }
   ],
   "source": [
    "thread1.start()\n",
    "thread2.start()"
   ]
  },
  {
   "cell_type": "code",
   "execution_count": 49,
   "id": "d8da9840-9b64-47bd-a259-475cfbd5b51c",
   "metadata": {},
   "outputs": [],
   "source": [
    "#Q.5\n",
    "# Advantages\n",
    "#1.Improved responsiveness:If one thread is blocked or performing a lengthy operation,other threads can continue execution.\n",
    "#2.Resource sharing:Threads share the memory and resources of the process to which they belong.This allows for efficient communication between threads.\n",
    "#3.Economical:Allocating memory and resources for process creation is costly.Since threads share resources of the process to which they belong.\n",
    "#4.Utilizes multiprocessor architectures: Multithreading on a multi-CPU machine increases parallelism.\n",
    "# Disadvantages\n",
    "#1.Synchronization:Since threads share the same address space, the inconsistency of shared data can occur,Therefore, developers need to ensure threads synchronize correctly.\n",
    "#2.Debugging: Debugging multithreaded programs can be difficult because threads may execute in non-deterministic order.\n",
    "#3.Overhead:Even though threads are lighter than processes, they still require the creation,scheduling, and termination of threads, which can cause significant overhead.\n",
    "#4.Starvation and deadlock: These issues can occur in multithreading programs.Starvation occurs when a thread is constantly denied access to resources.\n",
    "#  Deadlock happens when two or more threads are unable to proceed because each is waiting for the other to release a resource."
   ]
  },
  {
   "cell_type": "code",
   "execution_count": null,
   "id": "72f0beb6-b3ea-4991-9e11-b6b5c2dc2450",
   "metadata": {},
   "outputs": [],
   "source": [
    "#Q.6\n",
    "#A Deadlock is a situation in a multi-process or multi-threaded enviorment where a set of processes or \n",
    "# threads are blocked because each process or thread is holding a resource acquired by some other process or thread.\n",
    "#Race conditions\n",
    "# A race conditions occurs when two or more threads can access shared data and they try to change it at the same time.\n",
    "# Because the tread scheduling algorithm can swap between threads at any time, you don't know the order in which the threads\n",
    "# will attempt to access the shared data.Therefore ,the result of the change in data is dependent on the thread will attempt to access the shared data."
   ]
  }
 ],
 "metadata": {
  "kernelspec": {
   "display_name": "Python 3 (ipykernel)",
   "language": "python",
   "name": "python3"
  },
  "language_info": {
   "codemirror_mode": {
    "name": "ipython",
    "version": 3
   },
   "file_extension": ".py",
   "mimetype": "text/x-python",
   "name": "python",
   "nbconvert_exporter": "python",
   "pygments_lexer": "ipython3",
   "version": "3.10.8"
  }
 },
 "nbformat": 4,
 "nbformat_minor": 5
}
